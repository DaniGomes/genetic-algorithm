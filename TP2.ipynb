{
 "cells": [
  {
   "cell_type": "code",
   "execution_count": 36,
   "metadata": {},
   "outputs": [],
   "source": [
    "import gym\n",
    "import random\n",
    "from itertools import zip_longest\n",
    "import matplotlib.pyplot as plt"
   ]
  },
  {
   "cell_type": "code",
   "execution_count": 37,
   "metadata": {},
   "outputs": [],
   "source": [
    "# Utilidades\n",
    "def recompensa(elem):\n",
    "    return elem['recompensa']\n",
    "\n",
    "def melhorIndividuo(populacao):\n",
    "    populacao.sort(key = recompensa)\n",
    "    return populacao[0]['recompensa']\n",
    "\n",
    "def imprime(individuos):\n",
    "    print('Número de indivíduos: ', len(individuos))\n",
    "    soma = 0\n",
    "    for individuo in individuos:\n",
    "        print(individuo['recompensa'])\n",
    "        soma += individuo['recompensa']\n",
    "    print('Média da população: ', soma/len(individuos))"
   ]
  },
  {
   "cell_type": "code",
   "execution_count": 38,
   "metadata": {},
   "outputs": [],
   "source": [
    "# Adaptação\n",
    "def fitness(individuo, ambiente):\n",
    "    for acao in individuo['acoes']:\n",
    "        obs, rec, fim, info = ambiente.step(acao)\n",
    "        \n",
    "        if rec > individuo['recompensa']:\n",
    "            individuo['recompensa'] = rec\n",
    "            \n",
    "    return individuo['recompensa']\n",
    "\n",
    "def adaptacao(populacao, ambiente):\n",
    "    for individuo in populacao:\n",
    "        fitness(individuo, ambiente)\n",
    "    populacao.sort(key = recompensa, reverse = True)\n",
    "    return"
   ]
  },
  {
   "cell_type": "code",
   "execution_count": 39,
   "metadata": {},
   "outputs": [],
   "source": [
    "# Criar indivíduo aleatório (um indivíduo é um conjunto de ações)\n",
    "def criaIndividuo(ambiente, num_acoes):\n",
    "    individuo = { 'acoes': [], 'recompensa': -1000 }\n",
    "    for i in range(num_acoes):\n",
    "        individuo['acoes'].append(ambiente.action_space.sample())\n",
    "    individuo['recompensa'] = fitness(individuo, ambiente)\n",
    "    return individuo"
   ]
  },
  {
   "cell_type": "code",
   "execution_count": 40,
   "metadata": {},
   "outputs": [],
   "source": [
    "# Criar população inicial\n",
    "def criaPopulacao(ambiente, tam_pop, num_acoes):\n",
    "    populacao = []\n",
    "    for i in range(tam_pop):\n",
    "        populacao.append(criaIndividuo(ambiente, num_acoes))\n",
    "    return populacao\n",
    "\n",
    "def analisePopInicial(populacao):\n",
    "    negativo = True\n",
    "    em_pe = True\n",
    "    for individuo in populacao:\n",
    "        if individuo['recompensa'] == -100:\n",
    "            em_pe = False\n",
    "            break\n",
    "    return em_pe"
   ]
  },
  {
   "cell_type": "code",
   "execution_count": 41,
   "metadata": {},
   "outputs": [],
   "source": [
    "# Seleção \n",
    "def naoCaiu(individuo):\n",
    "    return individuo['recompensa'] != -100\n",
    "\n",
    "def selecao(populacao, ambiente):\n",
    "    adaptacao(populacao, ambiente)\n",
    "    melhores = list(filter(naoCaiu, populacao))\n",
    "    if(len(melhores) == len(populacao)):\n",
    "        metade = int(len(melhores)/2)\n",
    "        melhores = melhores[0:metade]\n",
    "    return melhores"
   ]
  },
  {
   "cell_type": "code",
   "execution_count": 42,
   "metadata": {},
   "outputs": [],
   "source": [
    "# Reprodução\n",
    "def crossingOver(individuo1, individuo2, num_acoes):\n",
    "    metade = int((num_acoes/2) + 1)\n",
    "\n",
    "    corte1 = slice(0, metade)\n",
    "    corte2 = slice(metade+1, num_acoes)\n",
    "\n",
    "    filho1 = { 'acoes': [], 'recompensa': -100 }\n",
    "    filho2 = { 'acoes': [], 'recompensa': -100 }\n",
    "\n",
    "    gene12 = individuo1['acoes'][corte1] + individuo2['acoes'][corte2]\n",
    "    gene21 = individuo2['acoes'][corte1] + individuo1['acoes'][corte2]\n",
    "\n",
    "    filho1['acoes'] = gene12\n",
    "    filho2['acoes'] = gene21\n",
    "\n",
    "    return filho1, filho2\n",
    "\n",
    "def reproducao(pais, num_acoes, cruzamentos):\n",
    "    filhos = []\n",
    "    \n",
    "    for i in range(cruzamentos):\n",
    "        n1 = random.randint(0, len(pais)-1)\n",
    "        n2 = random.randint(0, len(pais)-1)\n",
    "        co = crossingOver(pais[n1], pais[n2], num_acoes)\n",
    "        filhos.append(co[0])\n",
    "        filhos.append(co[1])\n",
    "    \n",
    "    return filhos"
   ]
  },
  {
   "cell_type": "code",
   "execution_count": 43,
   "metadata": {},
   "outputs": [],
   "source": [
    "# Mutação\n",
    "def mutacao(individuo, ambiente, num_acoes):\n",
    "    if random.randint(0, 1):\n",
    "        acao = ambiente.action_space.sample()\n",
    "        posicao = random.randint(0, num_acoes-1)\n",
    "        individuo['acoes'][posicao] = acao\n",
    "    return"
   ]
  },
  {
   "cell_type": "code",
   "execution_count": 48,
   "metadata": {},
   "outputs": [],
   "source": [
    "# Algoritmo genético\n",
    "def algoritmo_genetico(tam_pop, num_acoes, mostrar, passos):\n",
    "    ambiente = gym.make('BipedalWalker-v2')\n",
    "    \n",
    "    ambiente.reset()\n",
    "    populacao = criaPopulacao(ambiente, tam_pop, num_acoes)\n",
    "    adaptacao(populacao, ambiente)\n",
    "    while(not analisePopInicial(populacao)):\n",
    "        ambiente.reset()\n",
    "        populacao = criaPopulacao(ambiente, tam_pop, num_acoes)\n",
    "        adaptacao(populacao, ambiente)\n",
    "    \n",
    "    for j in range(passos):\n",
    "        if mostrar:\n",
    "            ambiente.render()\n",
    "        pos = [0]\n",
    "        \n",
    "        lista_pais = selecao(populacao, ambiente)\n",
    "        filhos = reproducao(lista_pais, num_acoes, int(tam_pop/2))\n",
    "        adaptacao(filhos, ambiente)\n",
    "        populacao = lista_pais + filhos\n",
    "        adaptacao(populacao, ambiente)\n",
    "        if len(populacao) > tam_pop:\n",
    "            populacao = populacao[0:tam_pop]\n",
    "    \n",
    "        pos.append(ambiente.hull.position[0])\n",
    "        if abs(pos[-1] - pos[-2]) < 0.5:\n",
    "            taxa_mutacao = random.randint(0, tam_pop-1)\n",
    "            for t in range(taxa_mutacao):\n",
    "                mutacao(populacao[t], ambiente, num_acoes)\n",
    "        \n",
    "        if ambiente.hull.position[0] > ambiente.terrain_x[-1]:\n",
    "            ambiente.close()\n",
    "            return 1\n",
    "        \n",
    "        if ambiente.hull.position[0] < ambiente.terrain_x[0]:\n",
    "            ambiente.close()\n",
    "            return 0\n",
    "    \n",
    "    ambiente.close()\n",
    "    return melhorIndividuo(populacao)"
   ]
  },
  {
   "cell_type": "markdown",
   "metadata": {},
   "source": [
    "# Testes"
   ]
  },
  {
   "cell_type": "code",
   "execution_count": 50,
   "metadata": {},
   "outputs": [
    {
     "data": {
      "text/plain": [
       "1"
      ]
     },
     "execution_count": 50,
     "metadata": {},
     "output_type": "execute_result"
    }
   ],
   "source": [
    "algoritmo_genetico(10, 20, True, 500)"
   ]
  },
  {
   "cell_type": "code",
   "execution_count": 46,
   "metadata": {},
   "outputs": [
    {
     "data": {
      "text/plain": [
       "'\\nsolucoes = []\\nfor i in range(5):\\n    solucoes.append(algoritmo_genetico(10, 20, False))\\nsolucoes\\n'"
      ]
     },
     "execution_count": 46,
     "metadata": {},
     "output_type": "execute_result"
    }
   ],
   "source": [
    "\"\"\"\n",
    "solucoes = []\n",
    "for i in range(5):\n",
    "    solucoes.append(algoritmo_genetico(10, 20, False, 250))\n",
    "solucoes\n",
    "\"\"\""
   ]
  },
  {
   "cell_type": "code",
   "execution_count": 52,
   "metadata": {},
   "outputs": [
    {
     "name": "stdout",
     "output_type": "stream",
     "text": [
      "[0.07714062754309363, 1, 1, 1, 1]\n"
     ]
    },
    {
     "data": {
      "image/png": "[encoded data removed]",
      "text/plain": [
       "<Figure size 1440x360 with 2 Axes>"
      ]
     },
     "metadata": {
      "needs_background": "light"
     },
     "output_type": "display_data"
    }
   ],
   "source": [
    "solucoes = []\n",
    "nomes = ['ganhou', 'perdeu', 'preso']\n",
    "valores = [0, 0, 0]\n",
    "\n",
    "for i in range(5):\n",
    "    solucao = algoritmo_genetico(50, 20, False, 250)\n",
    "    solucoes.append(solucao)\n",
    "    if solucao == 1:\n",
    "        valores[0] += 1\n",
    "    elif solucao == 0:\n",
    "        valores[1] += 1\n",
    "    else:\n",
    "        valores[2] += 1\n",
    "\n",
    "print(solucoes)\n",
    "plt.figure(1, figsize=(20, 5))\n",
    "plt.subplot(131)\n",
    "plt.plot(solucoes)\n",
    "plt.subplot(132)\n",
    "plt.bar(nomes, valores)\n",
    "plt.show()"
   ]
  },
  {
   "cell_type": "code",
   "execution_count": null,
   "metadata": {},
   "outputs": [],
   "source": []
  }
 ],
 "metadata": {
  "kernelspec": {
   "display_name": "Python 3",
   "language": "python",
   "name": "python3"
  }
 },
 "nbformat": 4,
 "nbformat_minor": 2
}
